{
 "cells": [
  {
   "cell_type": "code",
   "execution_count": 1,
   "metadata": {},
   "outputs": [],
   "source": [
    "import pickle \n",
    "import numpy as np\n",
    "import matplotlib.pyplot as plt\n",
    "from sklearn.model_selection import StratifiedKFold\n",
    "from sklearn.metrics import f1_score, confusion_matrix, roc_curve, auc, \\\n",
    "                            classification_report, recall_score, precision_recall_curve\n",
    "import seaborn as sns\n",
    "\n",
    "# X_train\n",
    "path_X_train = \"pickles/X_train.pickle\"\n",
    "with open(path_X_train, 'rb') as data:\n",
    "    X_train = pickle.load(data)\n",
    "\n",
    "# y_train\n",
    "path_y_train = \"pickles/y_train.pickle\"\n",
    "with open(path_y_train, 'rb') as data:\n",
    "    y_train = pickle.load(data)\n",
    "\n",
    "# X_test\n",
    "path_X_test = \"pickles/X_test.pickle\"\n",
    "with open(path_X_test, 'rb') as data:\n",
    "    X_test = pickle.load(data)\n",
    "\n",
    "# y_test\n",
    "path_y_test = \"pickles/y_test.pickle\"\n",
    "with open(path_y_test, 'rb') as data:\n",
    "    y_test = pickle.load(data)"
   ]
  },
  {
   "cell_type": "code",
   "execution_count": 11,
   "metadata": {},
   "outputs": [],
   "source": [
    "# Taken from Sabber Ahamed's https://github.com/msahamed/handle_imabalnce_class\n",
    "class Ensemble(object):\n",
    "    def __init__(self, n_splits, base_models):\n",
    "        self.n_splits = n_splits\n",
    "        self.base_models = base_models\n",
    "\n",
    "    def predict(self, X, y, T):\n",
    "        X = np.array(X)\n",
    "        y = np.array(y)\n",
    "        T = np.array(T)\n",
    "        num_classes = len(np.unique(y))\n",
    "\n",
    "        folds = list(StratifiedKFold(n_splits=self.n_splits, shuffle=True, \n",
    "                                     random_state = 0).split(X, y))\n",
    "\n",
    "        train_probs = np.zeros((X.shape[0], num_classes))\n",
    "        test_probs = np.zeros((T.shape[0], num_classes))\n",
    "        \n",
    "        train_pred = np.zeros((X.shape[0], len(self.base_models)))\n",
    "        test_pred = np.zeros((T.shape[0], len(self.base_models)* self.n_splits))\n",
    "        f1_scores = np.zeros((len(self.base_models), self.n_splits))\n",
    "        recall_scores = np.zeros((len(self.base_models), self.n_splits))\n",
    "        \n",
    "        test_col = 0\n",
    "        for i, clf in enumerate(self.base_models):\n",
    "            \n",
    "            for j, (train_idx, valid_idx) in enumerate(folds):\n",
    "                \n",
    "                X_train = X[train_idx]\n",
    "                Y_train = y[train_idx]\n",
    "                X_valid = X[valid_idx]\n",
    "                Y_valid = y[valid_idx]\n",
    "                \n",
    "                clf.fit(X_train, Y_train)\n",
    "                \n",
    "                valid_pred = clf.predict(X_valid)\n",
    "                recall  = recall_score(Y_valid, valid_pred, average='binary')\n",
    "                f1 = f1_score(Y_valid, valid_pred, average='binary')\n",
    "                \n",
    "                recall_scores[i][j] = recall\n",
    "                f1_scores[i][j] = f1\n",
    "                \n",
    "                train_pred[valid_idx, i] = valid_pred\n",
    "                test_pred[:, test_col] = clf.predict(T)\n",
    "                test_col += 1\n",
    "                \n",
    "                # Probabilities\n",
    "                valid_probs = clf.predict_proba(X_valid)\n",
    "                train_probs[valid_idx, :] = valid_probs\n",
    "                test_probs += clf.predict_proba(T)\n",
    "                \n",
    "                print( \"Model - {} and CV - {} recall: {}, f1_score: {}\".format(i, j, recall, f1))\n",
    "                \n",
    "            test_probs /= self.n_splits\n",
    "            \n",
    "        return train_probs, test_probs, train_pred, test_pred"
   ]
  },
  {
   "cell_type": "code",
   "execution_count": 12,
   "metadata": {},
   "outputs": [],
   "source": [
    "from sklearn.ensemble import RandomForestClassifier\n",
    "from sklearn.linear_model import LogisticRegression\n",
    "# class_weight = dict({0:1, 1:10})\n",
    "\n",
    "rf = RandomForestClassifier(bootstrap=True, class_weight='balanced', criterion='gini',\n",
    "            max_depth=8, max_features='auto', max_leaf_nodes=None,\n",
    "            min_impurity_decrease=0.0, min_impurity_split=None,\n",
    "            min_samples_leaf=4, min_samples_split=10,\n",
    "            min_weight_fraction_leaf=0.0, n_estimators=300, n_jobs=-1,\n",
    "            oob_score=False,\n",
    "            random_state=0,\n",
    "            verbose=0, warm_start=False)\n",
    "\n",
    "lr = LogisticRegression(class_weight='balanced', max_iter=1000)"
   ]
  },
  {
   "cell_type": "code",
   "execution_count": 13,
   "metadata": {},
   "outputs": [],
   "source": [
    "base_models = [rf]\n",
    "n_splits = 5\n",
    "lgb_stack = Ensemble(n_splits = n_splits, base_models = base_models)        "
   ]
  },
  {
   "cell_type": "code",
   "execution_count": 14,
   "metadata": {},
   "outputs": [
    {
     "name": "stdout",
     "output_type": "stream",
     "text": [
      "Model - 0 and CV - 0 recall: 0.4913657770800628, f1_score: 0.35062661905762094\n",
      "Model - 0 and CV - 1 recall: 0.4930351186972729, f1_score: 0.36246934948795617\n",
      "Model - 0 and CV - 2 recall: 0.4619309262166405, f1_score: 0.34742823407866574\n",
      "Model - 0 and CV - 3 recall: 0.4835164835164835, f1_score: 0.3577235772357724\n",
      "Model - 0 and CV - 4 recall: 0.4662480376766091, f1_score: 0.3538083538083538\n"
     ]
    }
   ],
   "source": [
    "train_probs, test_probs, train_pred, test_pred = lgb_stack.predict(X_train, y_train, X_test)"
   ]
  },
  {
   "cell_type": "code",
   "execution_count": 15,
   "metadata": {},
   "outputs": [
    {
     "name": "stdout",
     "output_type": "stream",
     "text": [
      "1. The F-1 score of the model 0.3544197251367786\n",
      "\n",
      "2. The recall score of the model 0.479219810839449\n",
      "\n",
      "3. Classification report \n",
      "               precision    recall  f1-score   support\n",
      "\n",
      "           0       0.92      0.82      0.87    174951\n",
      "           1       0.28      0.48      0.35     25481\n",
      "\n",
      "    accuracy                           0.78    200432\n",
      "   macro avg       0.60      0.65      0.61    200432\n",
      "weighted avg       0.83      0.78      0.80    200432\n",
      " \n",
      "\n"
     ]
    },
    {
     "data": {
      "image/png": "[encoded data removed]",
      "text/plain": [
       "<Figure size 921.6x432 with 2 Axes>"
      ]
     },
     "metadata": {
      "needs_background": "light"
     },
     "output_type": "display_data"
    }
   ],
   "source": [
    "print('1. The F-1 score of the model {}\\n'.format(f1_score(y_train, train_pred, average='binary')))\n",
    "print('2. The recall score of the model {}\\n'.format(recall_score(y_train, train_pred, average='binary')))\n",
    "print('3. Classification report \\n {} \\n'.format(classification_report(y_train, train_pred)))\n",
    "conf_matrix = confusion_matrix(y_train, train_pred)\n",
    "plt.figure(figsize=(12.8,6))\n",
    "sns.heatmap(conf_matrix, \n",
    "            annot=True,\n",
    "            cmap=\"Blues\")\n",
    "plt.ylabel('Predicted')\n",
    "plt.xlabel('Actual')\n",
    "plt.title('Confusion matrix')\n",
    "plt.show()"
   ]
  },
  {
   "cell_type": "code",
   "execution_count": 17,
   "metadata": {},
   "outputs": [
    {
     "data": {
      "image/png": "[encoded data removed]",
      "text/plain": [
       "<Figure size 864x288 with 2 Axes>"
      ]
     },
     "metadata": {
      "needs_background": "light"
     },
     "output_type": "display_data"
    }
   ],
   "source": [
    "plt.figure(figsize=(12, 4))\n",
    "num_classes = 2\n",
    "for i in range(num_classes):\n",
    "    plt.subplot(1, 3, i+1)\n",
    "    plt.hist(train_probs[:, i], bins=10, histtype='bar', rwidth=0.95)\n",
    "    plt.xlim(0,1)\n",
    "    plt.title('Predicted class-{} probabilities'.format(i+1))\n",
    "    plt.xlabel('Probability')\n",
    "    plt.ylabel('Frequency')\n",
    "plt.tight_layout()\n",
    "plt.show()"
   ]
  },
  {
   "cell_type": "code",
   "execution_count": null,
   "metadata": {},
   "outputs": [],
   "source": [
    "from sklearn.model_selection import GridSearchCV\n",
    "from sklearn.metrics import make_scorer\n",
    "import functools\n",
    "\n",
    "cv = StratifiedKFold(n_splits = 5, shuffle=True, random_state = 0)\n",
    "\n",
    "rf = RandomForestClassifier(random_state = 0) \n",
    "scoring = {'Recall': make_scorer(functools.partial(recall_score, average='binary')),\n",
    "           'f1_score': make_scorer(functools.partial(f1_score, average='binary'))\n",
    "          }\n",
    "\n",
    "params = {'max_depth': [6, 8, 10, 20], \n",
    "          'min_samples_split': [5, 10, 15],\n",
    "          'min_samples_leaf' : [4, 8, 12],\n",
    "          'n_estimators' : [300, 400, 500],\n",
    "          'class_weight': ['balanced']\n",
    "         }\n",
    "\n",
    "grid_clf = GridSearchCV(estimator = rf, param_grid = params, cv = cv, verbose=1)\n",
    "grid_clf.fit(X_train, y_train)"
   ]
  }
 ],
 "metadata": {
  "kernelspec": {
   "display_name": "Python 3",
   "language": "python",
   "name": "python3"
  },
  "language_info": {
   "codemirror_mode": {
    "name": "ipython",
    "version": 3
   },
   "file_extension": ".py",
   "mimetype": "text/x-python",
   "name": "python",
   "nbconvert_exporter": "python",
   "pygments_lexer": "ipython3",
   "version": "3.8.3"
  }
 },
 "nbformat": 4,
 "nbformat_minor": 4
}
